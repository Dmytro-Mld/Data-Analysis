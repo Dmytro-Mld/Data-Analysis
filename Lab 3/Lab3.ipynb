{
  "nbformat": 4,
  "nbformat_minor": 0,
  "metadata": {
    "colab": {
      "provenance": []
    },
    "kernelspec": {
      "name": "python3",
      "display_name": "Python 3"
    },
    "language_info": {
      "name": "python"
    }
  },
  "cells": [
    {
      "cell_type": "code",
      "execution_count": null,
      "metadata": {
        "id": "nvrcgLGfgpVv"
      },
      "outputs": [],
      "source": [
        "import pandas as pd\n",
        "import numpy as np\n",
        "import matplotlib.pyplot as plt\n",
        "import kagglehub\n",
        "import os\n",
        "from sklearn.model_selection import train_test_split\n",
        "from sklearn.decomposition import PCA"
      ]
    },
    {
      "cell_type": "markdown",
      "source": [
        "Відкриваємо датасет"
      ],
      "metadata": {
        "id": "tj7smOiyhTZq"
      }
    },
    {
      "cell_type": "code",
      "source": [
        "path = kagglehub.dataset_download(\"soumyodippal000/top-2000-companies-financial-data-2024-dataset\")\n",
        "files = os.listdir(path)\n",
        "print(\"Files in dataset directory:\", files)\n",
        "\n",
        "csv_file = [f for f in files if f.endswith(\".csv\")][0]  # Знаходимо перший CSV-файл\n",
        "df = pd.read_csv(os.path.join(path, csv_file))\n",
        "df = df.drop(columns=['Unnamed: 0', 'Name', 'Country'])\n",
        "\n",
        "df.info()"
      ],
      "metadata": {
        "colab": {
          "base_uri": "https://localhost:8080/"
        },
        "id": "ycRCj3cVhtSq",
        "outputId": "c4b11a21-9af4-4085-c5da-a4b233048bd1"
      },
      "execution_count": null,
      "outputs": [
        {
          "output_type": "stream",
          "name": "stdout",
          "text": [
            "Warning: Looks like you're using an outdated `kagglehub` version (installed: 0.3.5), please consider upgrading to the latest version (0.3.6).\n",
            "/root/.cache/kagglehub/datasets/soumyodippal000/top-2000-companies-financial-data-2024-dataset/versions/1\n",
            "Files in dataset directory: ['Top 2000 Companies Financial Data 2024.csv', 'edited_data.csv']\n",
            "<class 'pandas.core.frame.DataFrame'>\n",
            "RangeIndex: 2001 entries, 0 to 2000\n",
            "Data columns (total 4 columns):\n",
            " #   Column        Non-Null Count  Dtype \n",
            "---  ------        --------------  ----- \n",
            " 0   Sales         2001 non-null   object\n",
            " 1   Profit        2001 non-null   object\n",
            " 2   Assets        2001 non-null   object\n",
            " 3   Market Value  2001 non-null   object\n",
            "dtypes: object(4)\n",
            "memory usage: 62.7+ KB\n"
          ]
        }
      ]
    },
    {
      "cell_type": "markdown",
      "source": [
        "Створимо функцію для очищення даних"
      ],
      "metadata": {
        "id": "HX49aOFX2HEr"
      }
    },
    {
      "cell_type": "code",
      "source": [
        "def clean_value(value):\n",
        "    cleaned = value.replace(\"$\", \"\").replace(\"B\", \"\").replace(\"M\", \"\").replace(\",\", \"\").strip()\n",
        "    return cleaned"
      ],
      "metadata": {
        "id": "IciQJooi2FzY"
      },
      "execution_count": null,
      "outputs": []
    },
    {
      "cell_type": "code",
      "source": [
        "df.dropna()\n",
        "x = np.array(df[['Sales', 'Profit', 'Assets']])\n",
        "for i in range(x.shape[0]): #редагуємо дані\n",
        "  for j in range(x.shape[1]):\n",
        "    if isinstance(value, str):\n",
        "      cleaned = x[i, j].replace(\"$\", \"\").replace(\"B\", \"\").replace(\"M\", \"\").replace(\",\", \"\").strip()\n",
        "      value = float(cleaned)\n",
        "      x[i, j] = value\n",
        "\n",
        "\n",
        "y = np.array(df['Market Value'])  # приймає приймає 3 параметри (3 класи фіч), повертає ринкову вартість\n",
        "df['Market Value'] = df['Market Value'].apply(clean_value)\n",
        "pca = PCA(n_components=2)\n",
        "x_2 = pca.fit_transform(x)\n",
        "\n",
        "\n",
        "edited_file_path = os.path.join(path, 'edited_data.csv')\n",
        "df.to_csv(edited_file_path, index=False)\n",
        "\n",
        "print(df)"
      ],
      "metadata": {
        "colab": {
          "base_uri": "https://localhost:8080/"
        },
        "id": "TOjWFoZlv5ou",
        "outputId": "4e1ed7b7-6a3a-4fcf-e724-0593712af699"
      },
      "execution_count": null,
      "outputs": [
        {
          "output_type": "stream",
          "name": "stdout",
          "text": [
            "      Sales  Profit  Assets Market Value\n",
            "0     252.9    50.0  4090.7        588.1\n",
            "1     369.0    73.4  1070.0        899.1\n",
            "2     489.1   116.9   661.5       1919.3\n",
            "3     223.8    50.4  6586.0        215.2\n",
            "4     183.3    25.0  3273.8        307.3\n",
            "...     ...     ...     ...          ...\n",
            "1996  201.0   632.7     8.6         11.3\n",
            "1997    3.9   460.2    33.2            6\n",
            "1998   15.2   158.0     9.3          2.6\n",
            "1999    2.2   134.8    25.9           10\n",
            "2000    5.1   812.8    11.6            9\n",
            "\n",
            "[2001 rows x 4 columns]\n"
          ]
        }
      ]
    },
    {
      "cell_type": "markdown",
      "source": [
        "Векторизація датасету"
      ],
      "metadata": {
        "id": "Ttrz0IyGwnbB"
      }
    },
    {
      "cell_type": "code",
      "source": [
        "all_features = []\n",
        "all_targets = []\n",
        "with open(edited_file_path) as f:\n",
        "    for i, line in enumerate(f):\n",
        "        if i == 0:\n",
        "            print(\"HEADER:\", line.strip())\n",
        "            continue\n",
        "        fields = line.strip().split(\",\")\n",
        "        all_features.append([float(v.replace('\"', \"\")) for v in fields[:-1]])\n",
        "        all_targets.append([float(fields[0].replace('\"', \"\"))])\n",
        "        if i == 1:\n",
        "            print(\"EXAMPLE FEATURES:\", all_features[-1])\n",
        "features = np.array(all_features, dtype=\"float32\")\n",
        "targets = np.array(all_targets, dtype=\"float32\")\n",
        "print(\"features.shape:\", features.shape)\n",
        "print(\"targets.shape:\", targets.shape)"
      ],
      "metadata": {
        "colab": {
          "base_uri": "https://localhost:8080/"
        },
        "id": "TF8D3rHzwdHD",
        "outputId": "4c281a0c-e81c-40cb-c765-6c67d515912a"
      },
      "execution_count": null,
      "outputs": [
        {
          "output_type": "stream",
          "name": "stdout",
          "text": [
            "HEADER: Sales,Profit,Assets,Market Value\n",
            "EXAMPLE FEATURES: [252.9, 50.0, 4090.7]\n",
            "features.shape: (2001, 3)\n",
            "targets.shape: (2001, 1)\n"
          ]
        }
      ]
    },
    {
      "cell_type": "markdown",
      "source": [
        "Готуємо тестовий датасет"
      ],
      "metadata": {
        "id": "7VkJE86uMINh"
      }
    },
    {
      "cell_type": "code",
      "source": [
        "num_val_samples = int(len(features) * 0.2)\n",
        "train_features = features[:-num_val_samples]\n",
        "train_targets = targets[:-num_val_samples]\n",
        "val_features = features[-num_val_samples:]\n",
        "val_targets = targets[-num_val_samples:]\n",
        "\n",
        "print(\"Number of training samples:\", len(train_features))\n",
        "print(\"Number of validation samples:\", len(val_features))"
      ],
      "metadata": {
        "colab": {
          "base_uri": "https://localhost:8080/"
        },
        "id": "NasDGRVQMEA8",
        "outputId": "bfe6093f-3985-413b-a343-6c75d0f5b6ae"
      },
      "execution_count": null,
      "outputs": [
        {
          "output_type": "stream",
          "name": "stdout",
          "text": [
            "Number of training samples: 1601\n",
            "Number of validation samples: 400\n"
          ]
        }
      ]
    },
    {
      "cell_type": "code",
      "source": [
        "counts = np.bincount(train_targets[:, 0])\n",
        "print(\n",
        "    \"Number of positive samples in training data: {} ({:.2f}% of total)\".format(\n",
        "        counts[1], 100 * float(counts[1]) / len(train_targets)\n",
        "    )\n",
        ")\n",
        "\n",
        "weight_for_0 = 1.0 / counts[0]\n",
        "weight_for_1 = 1.0 / counts[1]"
      ],
      "metadata": {
        "colab": {
          "base_uri": "https://localhost:8080/"
        },
        "id": "_2NUQu1fMPTc",
        "outputId": "e9237949-d3eb-4cbe-8643-198f45c70978"
      },
      "execution_count": null,
      "outputs": [
        {
          "output_type": "stream",
          "name": "stdout",
          "text": [
            "Number of positive samples in training data: 16 (1.00% of total)\n"
          ]
        },
        {
          "output_type": "stream",
          "name": "stderr",
          "text": [
            "<ipython-input-77-1847ded0809a>:8: RuntimeWarning: divide by zero encountered in divide\n",
            "  weight_for_0 = 1.0 / counts[0]\n"
          ]
        }
      ]
    },
    {
      "cell_type": "code",
      "source": [
        "mean = np.mean(train_features, axis=0)\n",
        "train_features -= mean\n",
        "val_features -= mean\n",
        "std = np.std(train_features, axis=0)\n",
        "train_features /= std\n",
        "val_features /= std"
      ],
      "metadata": {
        "id": "pq9EVfi3O_jO"
      },
      "execution_count": null,
      "outputs": []
    },
    {
      "cell_type": "code",
      "source": [
        "import keras\n",
        "\n",
        "model = keras.Sequential(\n",
        "    [\n",
        "        keras.Input(shape=train_features.shape[1:]),\n",
        "        keras.layers.Dense(256, activation=\"relu\"),\n",
        "        keras.layers.Dense(256, activation=\"relu\"),\n",
        "        keras.layers.Dropout(0.3),\n",
        "        keras.layers.Dense(256, activation=\"relu\"),\n",
        "        keras.layers.Dropout(0.3),\n",
        "        keras.layers.Dense(1, activation=\"sigmoid\"),\n",
        "    ]\n",
        ")\n",
        "model.summary()"
      ],
      "metadata": {
        "colab": {
          "base_uri": "https://localhost:8080/",
          "height": 337
        },
        "id": "W6hhc_fePBGU",
        "outputId": "373ed182-2563-4fb4-e82f-77524dcd7b2f"
      },
      "execution_count": null,
      "outputs": [
        {
          "output_type": "display_data",
          "data": {
            "text/plain": [
              "\u001b[1mModel: \"sequential\"\u001b[0m\n"
            ],
            "text/html": [
              "<pre style=\"white-space:pre;overflow-x:auto;line-height:normal;font-family:Menlo,'DejaVu Sans Mono',consolas,'Courier New',monospace\"><span style=\"font-weight: bold\">Model: \"sequential\"</span>\n",
              "</pre>\n"
            ]
          },
          "metadata": {}
        },
        {
          "output_type": "display_data",
          "data": {
            "text/plain": [
              "┏━━━━━━━━━━━━━━━━━━━━━━━━━━━━━━━━━━━━━━┳━━━━━━━━━━━━━━━━━━━━━━━━━━━━━┳━━━━━━━━━━━━━━━━━┓\n",
              "┃\u001b[1m \u001b[0m\u001b[1mLayer (type)                        \u001b[0m\u001b[1m \u001b[0m┃\u001b[1m \u001b[0m\u001b[1mOutput Shape               \u001b[0m\u001b[1m \u001b[0m┃\u001b[1m \u001b[0m\u001b[1m        Param #\u001b[0m\u001b[1m \u001b[0m┃\n",
              "┡━━━━━━━━━━━━━━━━━━━━━━━━━━━━━━━━━━━━━━╇━━━━━━━━━━━━━━━━━━━━━━━━━━━━━╇━━━━━━━━━━━━━━━━━┩\n",
              "│ dense (\u001b[38;5;33mDense\u001b[0m)                        │ (\u001b[38;5;45mNone\u001b[0m, \u001b[38;5;34m256\u001b[0m)                 │           \u001b[38;5;34m1,024\u001b[0m │\n",
              "├──────────────────────────────────────┼─────────────────────────────┼─────────────────┤\n",
              "│ dense_1 (\u001b[38;5;33mDense\u001b[0m)                      │ (\u001b[38;5;45mNone\u001b[0m, \u001b[38;5;34m256\u001b[0m)                 │          \u001b[38;5;34m65,792\u001b[0m │\n",
              "├──────────────────────────────────────┼─────────────────────────────┼─────────────────┤\n",
              "│ dropout (\u001b[38;5;33mDropout\u001b[0m)                    │ (\u001b[38;5;45mNone\u001b[0m, \u001b[38;5;34m256\u001b[0m)                 │               \u001b[38;5;34m0\u001b[0m │\n",
              "├──────────────────────────────────────┼─────────────────────────────┼─────────────────┤\n",
              "│ dense_2 (\u001b[38;5;33mDense\u001b[0m)                      │ (\u001b[38;5;45mNone\u001b[0m, \u001b[38;5;34m256\u001b[0m)                 │          \u001b[38;5;34m65,792\u001b[0m │\n",
              "├──────────────────────────────────────┼─────────────────────────────┼─────────────────┤\n",
              "│ dropout_1 (\u001b[38;5;33mDropout\u001b[0m)                  │ (\u001b[38;5;45mNone\u001b[0m, \u001b[38;5;34m256\u001b[0m)                 │               \u001b[38;5;34m0\u001b[0m │\n",
              "├──────────────────────────────────────┼─────────────────────────────┼─────────────────┤\n",
              "│ dense_3 (\u001b[38;5;33mDense\u001b[0m)                      │ (\u001b[38;5;45mNone\u001b[0m, \u001b[38;5;34m1\u001b[0m)                   │             \u001b[38;5;34m257\u001b[0m │\n",
              "└──────────────────────────────────────┴─────────────────────────────┴─────────────────┘\n"
            ],
            "text/html": [
              "<pre style=\"white-space:pre;overflow-x:auto;line-height:normal;font-family:Menlo,'DejaVu Sans Mono',consolas,'Courier New',monospace\">┏━━━━━━━━━━━━━━━━━━━━━━━━━━━━━━━━━━━━━━┳━━━━━━━━━━━━━━━━━━━━━━━━━━━━━┳━━━━━━━━━━━━━━━━━┓\n",
              "┃<span style=\"font-weight: bold\"> Layer (type)                         </span>┃<span style=\"font-weight: bold\"> Output Shape                </span>┃<span style=\"font-weight: bold\">         Param # </span>┃\n",
              "┡━━━━━━━━━━━━━━━━━━━━━━━━━━━━━━━━━━━━━━╇━━━━━━━━━━━━━━━━━━━━━━━━━━━━━╇━━━━━━━━━━━━━━━━━┩\n",
              "│ dense (<span style=\"color: #0087ff; text-decoration-color: #0087ff\">Dense</span>)                        │ (<span style=\"color: #00d7ff; text-decoration-color: #00d7ff\">None</span>, <span style=\"color: #00af00; text-decoration-color: #00af00\">256</span>)                 │           <span style=\"color: #00af00; text-decoration-color: #00af00\">1,024</span> │\n",
              "├──────────────────────────────────────┼─────────────────────────────┼─────────────────┤\n",
              "│ dense_1 (<span style=\"color: #0087ff; text-decoration-color: #0087ff\">Dense</span>)                      │ (<span style=\"color: #00d7ff; text-decoration-color: #00d7ff\">None</span>, <span style=\"color: #00af00; text-decoration-color: #00af00\">256</span>)                 │          <span style=\"color: #00af00; text-decoration-color: #00af00\">65,792</span> │\n",
              "├──────────────────────────────────────┼─────────────────────────────┼─────────────────┤\n",
              "│ dropout (<span style=\"color: #0087ff; text-decoration-color: #0087ff\">Dropout</span>)                    │ (<span style=\"color: #00d7ff; text-decoration-color: #00d7ff\">None</span>, <span style=\"color: #00af00; text-decoration-color: #00af00\">256</span>)                 │               <span style=\"color: #00af00; text-decoration-color: #00af00\">0</span> │\n",
              "├──────────────────────────────────────┼─────────────────────────────┼─────────────────┤\n",
              "│ dense_2 (<span style=\"color: #0087ff; text-decoration-color: #0087ff\">Dense</span>)                      │ (<span style=\"color: #00d7ff; text-decoration-color: #00d7ff\">None</span>, <span style=\"color: #00af00; text-decoration-color: #00af00\">256</span>)                 │          <span style=\"color: #00af00; text-decoration-color: #00af00\">65,792</span> │\n",
              "├──────────────────────────────────────┼─────────────────────────────┼─────────────────┤\n",
              "│ dropout_1 (<span style=\"color: #0087ff; text-decoration-color: #0087ff\">Dropout</span>)                  │ (<span style=\"color: #00d7ff; text-decoration-color: #00d7ff\">None</span>, <span style=\"color: #00af00; text-decoration-color: #00af00\">256</span>)                 │               <span style=\"color: #00af00; text-decoration-color: #00af00\">0</span> │\n",
              "├──────────────────────────────────────┼─────────────────────────────┼─────────────────┤\n",
              "│ dense_3 (<span style=\"color: #0087ff; text-decoration-color: #0087ff\">Dense</span>)                      │ (<span style=\"color: #00d7ff; text-decoration-color: #00d7ff\">None</span>, <span style=\"color: #00af00; text-decoration-color: #00af00\">1</span>)                   │             <span style=\"color: #00af00; text-decoration-color: #00af00\">257</span> │\n",
              "└──────────────────────────────────────┴─────────────────────────────┴─────────────────┘\n",
              "</pre>\n"
            ]
          },
          "metadata": {}
        },
        {
          "output_type": "display_data",
          "data": {
            "text/plain": [
              "\u001b[1m Total params: \u001b[0m\u001b[38;5;34m132,865\u001b[0m (519.00 KB)\n"
            ],
            "text/html": [
              "<pre style=\"white-space:pre;overflow-x:auto;line-height:normal;font-family:Menlo,'DejaVu Sans Mono',consolas,'Courier New',monospace\"><span style=\"font-weight: bold\"> Total params: </span><span style=\"color: #00af00; text-decoration-color: #00af00\">132,865</span> (519.00 KB)\n",
              "</pre>\n"
            ]
          },
          "metadata": {}
        },
        {
          "output_type": "display_data",
          "data": {
            "text/plain": [
              "\u001b[1m Trainable params: \u001b[0m\u001b[38;5;34m132,865\u001b[0m (519.00 KB)\n"
            ],
            "text/html": [
              "<pre style=\"white-space:pre;overflow-x:auto;line-height:normal;font-family:Menlo,'DejaVu Sans Mono',consolas,'Courier New',monospace\"><span style=\"font-weight: bold\"> Trainable params: </span><span style=\"color: #00af00; text-decoration-color: #00af00\">132,865</span> (519.00 KB)\n",
              "</pre>\n"
            ]
          },
          "metadata": {}
        },
        {
          "output_type": "display_data",
          "data": {
            "text/plain": [
              "\u001b[1m Non-trainable params: \u001b[0m\u001b[38;5;34m0\u001b[0m (0.00 B)\n"
            ],
            "text/html": [
              "<pre style=\"white-space:pre;overflow-x:auto;line-height:normal;font-family:Menlo,'DejaVu Sans Mono',consolas,'Courier New',monospace\"><span style=\"font-weight: bold\"> Non-trainable params: </span><span style=\"color: #00af00; text-decoration-color: #00af00\">0</span> (0.00 B)\n",
              "</pre>\n"
            ]
          },
          "metadata": {}
        }
      ]
    },
    {
      "cell_type": "code",
      "source": [
        "metrics = [\n",
        "    keras.metrics.FalseNegatives(name=\"fn\"),\n",
        "    keras.metrics.FalsePositives(name=\"fp\"),\n",
        "    keras.metrics.TrueNegatives(name=\"tn\"),\n",
        "    keras.metrics.TruePositives(name=\"tp\"),\n",
        "    keras.metrics.Precision(name=\"precision\"),\n",
        "    keras.metrics.Recall(name=\"recall\"),\n",
        "]\n",
        "\n",
        "model.compile(\n",
        "    optimizer=keras.optimizers.Adam(learning_rate=0.0001), loss=\"binary_crossentropy\", metrics=[\"accuracy\"]\n",
        ")\n",
        "\n",
        "#callbacks = [keras.callbacks.ModelCheckpoint(\"fraud_model_at_epoch_{epoch}.h5\")]\n",
        "class_weight = {0: weight_for_0, 1: weight_for_1}\n",
        "\n",
        "model.fit(\n",
        "    train_features,\n",
        "    train_targets,\n",
        "    batch_size=2048,\n",
        "    epochs=30,\n",
        "    verbose=2,\n",
        "    #callbacks=callbacks,\n",
        "    validation_data=(val_features, val_targets),\n",
        "    class_weight=class_weight,\n",
        ")"
      ],
      "metadata": {
        "colab": {
          "base_uri": "https://localhost:8080/"
        },
        "id": "MAm08n2dPJEP",
        "outputId": "a0b4f1ee-ccf9-4ace-e274-282ee9be9721"
      },
      "execution_count": null,
      "outputs": [
        {
          "output_type": "stream",
          "name": "stdout",
          "text": [
            "Epoch 1/30\n",
            "1/1 - 2s - 2s/step - accuracy: 0.0044 - loss: 1.1686 - val_accuracy: 0.1250 - val_loss: 0.8404\n",
            "Epoch 2/30\n",
            "1/1 - 0s - 119ms/step - accuracy: 0.0062 - loss: 0.3727 - val_accuracy: 0.1375 - val_loss: -2.5241e-01\n",
            "Epoch 3/30\n",
            "1/1 - 0s - 102ms/step - accuracy: 0.0075 - loss: -2.6955e-01 - val_accuracy: 0.1375 - val_loss: -1.3440e+00\n",
            "Epoch 4/30\n",
            "1/1 - 0s - 135ms/step - accuracy: 0.0081 - loss: -1.3882e+00 - val_accuracy: 0.1375 - val_loss: -2.4319e+00\n",
            "Epoch 5/30\n",
            "1/1 - 0s - 132ms/step - accuracy: 0.0087 - loss: -1.5683e+00 - val_accuracy: 0.1375 - val_loss: -3.5028e+00\n",
            "Epoch 6/30\n",
            "1/1 - 0s - 89ms/step - accuracy: 0.0100 - loss: -2.9462e+00 - val_accuracy: 0.1375 - val_loss: -4.5771e+00\n",
            "Epoch 7/30\n",
            "1/1 - 0s - 149ms/step - accuracy: 0.0094 - loss: -3.9535e+00 - val_accuracy: 0.1375 - val_loss: -5.6712e+00\n",
            "Epoch 8/30\n",
            "1/1 - 0s - 136ms/step - accuracy: 0.0081 - loss: -4.4354e+00 - val_accuracy: 0.1375 - val_loss: -6.7831e+00\n",
            "Epoch 9/30\n",
            "1/1 - 0s - 133ms/step - accuracy: 0.0100 - loss: -4.7364e+00 - val_accuracy: 0.1375 - val_loss: -7.9143e+00\n",
            "Epoch 10/30\n",
            "1/1 - 0s - 133ms/step - accuracy: 0.0100 - loss: -5.7726e+00 - val_accuracy: 0.1375 - val_loss: -9.0640e+00\n",
            "Epoch 11/30\n",
            "1/1 - 0s - 308ms/step - accuracy: 0.0100 - loss: -6.2933e+00 - val_accuracy: 0.1375 - val_loss: -1.0225e+01\n",
            "Epoch 12/30\n",
            "1/1 - 0s - 149ms/step - accuracy: 0.0100 - loss: -7.2693e+00 - val_accuracy: 0.1375 - val_loss: -1.1367e+01\n",
            "Epoch 13/30\n",
            "1/1 - 0s - 168ms/step - accuracy: 0.0100 - loss: -8.5367e+00 - val_accuracy: 0.1375 - val_loss: -1.2493e+01\n",
            "Epoch 14/30\n",
            "1/1 - 0s - 294ms/step - accuracy: 0.0100 - loss: -9.1598e+00 - val_accuracy: 0.1375 - val_loss: -1.3625e+01\n",
            "Epoch 15/30\n",
            "1/1 - 0s - 288ms/step - accuracy: 0.0100 - loss: -9.5956e+00 - val_accuracy: 0.1375 - val_loss: -1.4757e+01\n",
            "Epoch 16/30\n",
            "1/1 - 0s - 296ms/step - accuracy: 0.0100 - loss: -1.0849e+01 - val_accuracy: 0.1375 - val_loss: -1.5901e+01\n",
            "Epoch 17/30\n",
            "1/1 - 0s - 290ms/step - accuracy: 0.0100 - loss: -1.1566e+01 - val_accuracy: 0.1375 - val_loss: -1.7070e+01\n",
            "Epoch 18/30\n",
            "1/1 - 0s - 162ms/step - accuracy: 0.0100 - loss: -1.2442e+01 - val_accuracy: 0.1375 - val_loss: -1.8262e+01\n",
            "Epoch 19/30\n",
            "1/1 - 0s - 322ms/step - accuracy: 0.0100 - loss: -1.3548e+01 - val_accuracy: 0.1375 - val_loss: -1.9478e+01\n",
            "Epoch 20/30\n",
            "1/1 - 0s - 286ms/step - accuracy: 0.0100 - loss: -1.4223e+01 - val_accuracy: 0.1375 - val_loss: -2.0723e+01\n",
            "Epoch 21/30\n",
            "1/1 - 0s - 247ms/step - accuracy: 0.0100 - loss: -1.4559e+01 - val_accuracy: 0.1375 - val_loss: -2.1997e+01\n",
            "Epoch 22/30\n",
            "1/1 - 0s - 127ms/step - accuracy: 0.0100 - loss: -1.5713e+01 - val_accuracy: 0.1375 - val_loss: -2.3296e+01\n",
            "Epoch 23/30\n",
            "1/1 - 0s - 174ms/step - accuracy: 0.0100 - loss: -1.6417e+01 - val_accuracy: 0.1375 - val_loss: -2.4619e+01\n",
            "Epoch 24/30\n",
            "1/1 - 0s - 104ms/step - accuracy: 0.0100 - loss: -1.6816e+01 - val_accuracy: 0.1375 - val_loss: -2.5969e+01\n",
            "Epoch 25/30\n",
            "1/1 - 0s - 99ms/step - accuracy: 0.0100 - loss: -1.8325e+01 - val_accuracy: 0.1375 - val_loss: -2.7347e+01\n",
            "Epoch 26/30\n",
            "1/1 - 0s - 101ms/step - accuracy: 0.0100 - loss: -1.8850e+01 - val_accuracy: 0.1375 - val_loss: -2.8764e+01\n",
            "Epoch 27/30\n",
            "1/1 - 0s - 126ms/step - accuracy: 0.0100 - loss: -2.0314e+01 - val_accuracy: 0.1375 - val_loss: -3.0232e+01\n",
            "Epoch 28/30\n",
            "1/1 - 0s - 107ms/step - accuracy: 0.0100 - loss: -2.1693e+01 - val_accuracy: 0.1375 - val_loss: -3.1746e+01\n",
            "Epoch 29/30\n",
            "1/1 - 0s - 98ms/step - accuracy: 0.0100 - loss: -2.2619e+01 - val_accuracy: 0.1375 - val_loss: -3.3313e+01\n",
            "Epoch 30/30\n",
            "1/1 - 0s - 104ms/step - accuracy: 0.0100 - loss: -2.3556e+01 - val_accuracy: 0.1375 - val_loss: -3.4935e+01\n"
          ]
        },
        {
          "output_type": "execute_result",
          "data": {
            "text/plain": [
              "<keras.src.callbacks.history.History at 0x7afb2c2b3d00>"
            ]
          },
          "metadata": {},
          "execution_count": 84
        }
      ]
    },
    {
      "cell_type": "code",
      "source": [
        "score = model.evaluate(train_features, train_targets, verbose=0)\n",
        "print('Test accuracy:', score[1])"
      ],
      "metadata": {
        "colab": {
          "base_uri": "https://localhost:8080/"
        },
        "id": "SO0oMTnpP534",
        "outputId": "8d38935d-e25c-4784-fa27-6d7ed03f8e90"
      },
      "execution_count": null,
      "outputs": [
        {
          "output_type": "stream",
          "name": "stdout",
          "text": [
            "Test accuracy: 0.00999375432729721\n"
          ]
        }
      ]
    }
  ]
}